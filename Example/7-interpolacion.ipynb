{
 "cells": [
  {
   "cell_type": "code",
   "execution_count": 3,
   "metadata": {},
   "outputs": [],
   "source": [
    "%matplotlib qt\n",
    "import cv2\n",
    "import numpy as np\n",
    "import matplotlib.pyplot as plt\n",
    "\n",
    "\n",
    "image = cv2.imread('image/tomato.jpg', 1)\n",
    "\n",
    "half = cv2.resize(image, (0, 0), fx=0.1, fy=0.1)\n",
    "bigger = cv2.resize(image, (1050, 1610))\n",
    "\n",
    "stretch_near = cv2.resize(image, (780, 540),interpolation=cv2.INTER_NEAREST)\n",
    "\n",
    "\n",
    "Titles = [\"Original\", \"Half\", \"Bigger\", \"Interpolation Nearest\"]\n",
    "images = [image, half, bigger, stretch_near]\n",
    "count = 4\n",
    "\n",
    "for i in range(count):\n",
    "    plt.subplot(2, 2, i + 1)\n",
    "    plt.title(Titles[i])\n",
    "    plt.imshow(images[i])\n",
    "\n",
    "plt.show()"
   ]
  }
 ],
 "metadata": {
  "interpreter": {
   "hash": "d4026d7a36d874e1f6c487603191095e1ef70b08516b0a096b0ced5fbd321bb0"
  },
  "kernelspec": {
   "display_name": "Python 3.10.4 64-bit",
   "language": "python",
   "name": "python3"
  },
  "language_info": {
   "codemirror_mode": {
    "name": "ipython",
    "version": 3
   },
   "file_extension": ".py",
   "mimetype": "text/x-python",
   "name": "python",
   "nbconvert_exporter": "python",
   "pygments_lexer": "ipython3",
   "version": "3.10.4"
  },
  "orig_nbformat": 4
 },
 "nbformat": 4,
 "nbformat_minor": 2
}
